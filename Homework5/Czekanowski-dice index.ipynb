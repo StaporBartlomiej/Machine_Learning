{
 "cells": [
  {
   "cell_type": "markdown",
   "metadata": {},
   "source": [
    "As written on wikipedia when it comes to boolean data, czekanowski-dice index formula appear in form presented below:<br>\n",
    "<br>\n",
    "\\begin{equation}\n",
    "DSC=\\frac{2TP}{2TP + FP + FN}.\n",
    "\\end{equation}\n",
    "Legend:<br>\n",
    "TP - True Positive<br>\n",
    "FP - False Positive<br>\n",
    "FN - False Negative<br>"
   ]
  },
  {
   "cell_type": "code",
   "execution_count": 10,
   "metadata": {},
   "outputs": [],
   "source": [
    "import numpy\n",
    "\n",
    "def calculate_index(data_set,labels):\n",
    "    true_positive = (data_set * labels).sum()\n",
    "    false_positive = ((1-labels) * data_set).sum()\n",
    "    false_negative = ((1-data_set) * labels).sum()\n",
    "    result = (2*true_positive)/(2*true_positive + false_positive + false_negative)\n",
    "    return result"
   ]
  },
  {
   "cell_type": "code",
   "execution_count": null,
   "metadata": {},
   "outputs": [],
   "source": []
  }
 ],
 "metadata": {
  "kernelspec": {
   "display_name": "Python 3",
   "language": "python",
   "name": "python3"
  },
  "language_info": {
   "codemirror_mode": {
    "name": "ipython",
    "version": 3
   },
   "file_extension": ".py",
   "mimetype": "text/x-python",
   "name": "python",
   "nbconvert_exporter": "python",
   "pygments_lexer": "ipython3",
   "version": "3.6.4"
  }
 },
 "nbformat": 4,
 "nbformat_minor": 2
}
